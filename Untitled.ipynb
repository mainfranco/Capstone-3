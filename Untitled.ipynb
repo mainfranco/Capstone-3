{
 "cells": [
  {
   "cell_type": "code",
   "execution_count": 9,
   "id": "34678aa4",
   "metadata": {},
   "outputs": [],
   "source": [
    "import pandas as pd\n",
    "import numpy as np\n",
    "import seaborn as sns\n",
    "import os\n",
    "from skimage.io import imread\n",
    "from skimage.transform import resize\n",
    "from sklearn.model_selection import train_test_split, GridSearchCV\n",
    "from sklearn.svm import SVC\n",
    "from sklearn.metrics import classification_report"
   ]
  },
  {
   "cell_type": "code",
   "execution_count": 2,
   "id": "893f6cae",
   "metadata": {},
   "outputs": [],
   "source": [
    "input_dir = 'archive (18)/Data'\n",
    "categories = ['glioma_tumor','meningioma_tumor','normal','pituitary_tumor']\n",
    "\n",
    "data = []\n",
    "labels = []\n",
    "\n",
    "for category_idx,category in enumerate(categories):\n",
    "    for file in os.listdir(os.path.join(input_dir,category)):\n",
    "        img_path = os.path.join(input_dir,category,file)\n",
    "        img = imread(img_path)\n",
    "        img = resize(img,(15,15))\n",
    "        data.append(img.flatten())\n",
    "        labels.append(category_idx)\n",
    "        "
   ]
  },
  {
   "cell_type": "code",
   "execution_count": 18,
   "id": "a1839d9f",
   "metadata": {},
   "outputs": [],
   "source": [
    "data = np.asarray(data)\n",
    "labels = np.asarray(labels)"
   ]
  },
  {
   "cell_type": "code",
   "execution_count": 22,
   "id": "387598a0",
   "metadata": {},
   "outputs": [
    {
     "data": {
      "text/plain": [
       "array([[1.29676122e-12, 1.29676122e-12, 1.29676122e-12, ...,\n",
       "        1.74988130e-05, 1.74988130e-05, 1.74988130e-05],\n",
       "       [0.00000000e+00, 0.00000000e+00, 0.00000000e+00, ...,\n",
       "        1.33767273e-12, 1.33767273e-12, 1.33767273e-12],\n",
       "       [4.22922865e-14, 4.22922865e-14, 4.22922865e-14, ...,\n",
       "        4.41609308e-09, 4.41609308e-09, 4.41609308e-09],\n",
       "       ...,\n",
       "       [3.82682482e-09, 3.82682482e-09, 3.82682482e-09, ...,\n",
       "        4.71911205e-05, 4.71911205e-05, 4.71911205e-05],\n",
       "       [0.00000000e+00, 0.00000000e+00, 0.00000000e+00, ...,\n",
       "        1.41258522e-03, 1.41258522e-03, 1.41258522e-03],\n",
       "       [0.00000000e+00, 0.00000000e+00, 0.00000000e+00, ...,\n",
       "        1.61911932e-04, 1.61911932e-04, 1.61911932e-04]])"
      ]
     },
     "execution_count": 22,
     "metadata": {},
     "output_type": "execute_result"
    }
   ],
   "source": [
    "data"
   ]
  },
  {
   "cell_type": "code",
   "execution_count": 4,
   "id": "92f7c909",
   "metadata": {},
   "outputs": [
    {
     "data": {
      "text/plain": [
       "3096"
      ]
     },
     "execution_count": 4,
     "metadata": {},
     "output_type": "execute_result"
    }
   ],
   "source": [
    "len(data)"
   ]
  },
  {
   "cell_type": "code",
   "execution_count": 5,
   "id": "2bac5d6e",
   "metadata": {},
   "outputs": [
    {
     "data": {
      "text/plain": [
       "3096"
      ]
     },
     "execution_count": 5,
     "metadata": {},
     "output_type": "execute_result"
    }
   ],
   "source": [
    "len(labels) "
   ]
  },
  {
   "cell_type": "code",
   "execution_count": 6,
   "id": "7e9bb444",
   "metadata": {},
   "outputs": [],
   "source": [
    "X_train, X_test, y_train, y_test = train_test_split(data,labels,test_size=.2,stratify=labels,shuffle=True)"
   ]
  },
  {
   "cell_type": "code",
   "execution_count": 8,
   "id": "7e29da63",
   "metadata": {},
   "outputs": [],
   "source": [
    "classifier = SVC()\n",
    "\n",
    "parameters = [{'gamma': [0.01,0.001,0.0001],'C':[1,10,100,1000]}]\n",
    "\n",
    "grid_search = GridSearchCV(classifier, parameters)\n",
    "\n",
    "grid_search.fit(X_train,y_train)\n",
    "best_model = grid_search.best_estimator_"
   ]
  },
  {
   "cell_type": "code",
   "execution_count": 11,
   "id": "85af6ba2",
   "metadata": {},
   "outputs": [
    {
     "name": "stdout",
     "output_type": "stream",
     "text": [
      "              precision    recall  f1-score   support\n",
      "\n",
      "           0       0.77      0.83      0.80       180\n",
      "           1       0.80      0.82      0.81       183\n",
      "           2       0.96      0.82      0.88        88\n",
      "           3       0.91      0.88      0.89       169\n",
      "\n",
      "    accuracy                           0.84       620\n",
      "   macro avg       0.86      0.84      0.85       620\n",
      "weighted avg       0.85      0.84      0.84       620\n",
      "\n"
     ]
    }
   ],
   "source": [
    "y_preds = best_model.predict(X_test)\n",
    "print(classification_report(y_test,y_preds))"
   ]
  },
  {
   "cell_type": "code",
   "execution_count": 24,
   "id": "0c7bcf58",
   "metadata": {},
   "outputs": [
    {
     "name": "stdout",
     "output_type": "stream",
     "text": [
      "WARNING:tensorflow:From C:\\Users\\mainf\\anaconda3\\Lib\\site-packages\\keras\\src\\losses.py:2976: The name tf.losses.sparse_softmax_cross_entropy is deprecated. Please use tf.compat.v1.losses.sparse_softmax_cross_entropy instead.\n",
      "\n"
     ]
    }
   ],
   "source": [
    "import tensorflow as tf\n",
    "from tensorflow.keras.models import Sequential\n",
    "from tensorflow.keras.layers import Dense, Flatten, Conv2D, MaxPooling2D\n",
    "\n",
    "\n"
   ]
  },
  {
   "cell_type": "code",
   "execution_count": null,
   "id": "4087ad67",
   "metadata": {},
   "outputs": [],
   "source": []
  }
 ],
 "metadata": {
  "kernelspec": {
   "display_name": "Python 3 (ipykernel)",
   "language": "python",
   "name": "python3"
  },
  "language_info": {
   "codemirror_mode": {
    "name": "ipython",
    "version": 3
   },
   "file_extension": ".py",
   "mimetype": "text/x-python",
   "name": "python",
   "nbconvert_exporter": "python",
   "pygments_lexer": "ipython3",
   "version": "3.11.4"
  }
 },
 "nbformat": 4,
 "nbformat_minor": 5
}
